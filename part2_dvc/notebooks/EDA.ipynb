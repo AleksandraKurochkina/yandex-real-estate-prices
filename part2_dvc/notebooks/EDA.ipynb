{
 "cells": [
  {
   "cell_type": "code",
   "execution_count": 3,
   "metadata": {},
   "outputs": [],
   "source": [
    "%load_ext autoreload\n",
    "%autoreload 2"
   ]
  },
  {
   "cell_type": "code",
   "execution_count": 4,
   "metadata": {},
   "outputs": [],
   "source": [
    "import os\n",
    "import pandas as pd\n",
    "from dotenv import load_dotenv, find_dotenv\n",
    "from sqlalchemy import create_engine"
   ]
  },
  {
   "cell_type": "code",
   "execution_count": 5,
   "metadata": {},
   "outputs": [],
   "source": [
    "# Считываем все креды\n",
    "src_host = os.environ.get('DB_SOURCE_HOST')\n",
    "src_port = os.environ.get('DB_SOURCE_PORT')\n",
    "src_username = os.environ.get('DB_SOURCE_USER')\n",
    "src_password = os.environ.get('DB_SOURCE_PASSWORD')\n",
    "src_db = os.environ.get('DB_SOURCE_NAME') \n",
    "\n",
    "dst_host = os.environ.get('DB_DESTINATION_HOST')\n",
    "dst_port = os.environ.get('DB_DESTINATION_PORT')\n",
    "dst_username = os.environ.get('DB_DESTINATION_USER')\n",
    "dst_password = os.environ.get('DB_DESTINATION_PASSWORD')\n",
    "dst_db = os.environ.get('DB_DESTINATION_NAME')\n",
    "\n",
    "s3_bucket = os.environ.get('S3_BUCKET_NAME')\n",
    "s3_access_key = os.environ.get('AWS_ACCESS_KEY_ID')\n",
    "s3_secret_access_key = os.environ.get('AWS_SECRET_ACCESS_KEY')"
   ]
  },
  {
   "cell_type": "code",
   "execution_count": 6,
   "metadata": {},
   "outputs": [],
   "source": [
    "# Создадим соединения\n",
    "src_conn = create_engine(f'postgresql://{src_username}:{src_password}@{src_host}:{src_port}/{src_db}')\n",
    "dst_conn = create_engine(f'postgresql://{dst_username}:{dst_password}@{dst_host}:{dst_port}/{dst_db}')"
   ]
  },
  {
   "cell_type": "code",
   "execution_count": 7,
   "metadata": {},
   "outputs": [],
   "source": [
    "TABLE = 'flats_table'\n",
    "SQL = f'select * from {TABLE}'\n",
    "data = pd.read_sql(SQL, dst_conn)"
   ]
  },
  {
   "cell_type": "code",
   "execution_count": 8,
   "metadata": {},
   "outputs": [
    {
     "data": {
      "text/html": [
       "<div>\n",
       "<style scoped>\n",
       "    .dataframe tbody tr th:only-of-type {\n",
       "        vertical-align: middle;\n",
       "    }\n",
       "\n",
       "    .dataframe tbody tr th {\n",
       "        vertical-align: top;\n",
       "    }\n",
       "\n",
       "    .dataframe thead th {\n",
       "        text-align: right;\n",
       "    }\n",
       "</style>\n",
       "<table border=\"1\" class=\"dataframe\">\n",
       "  <thead>\n",
       "    <tr style=\"text-align: right;\">\n",
       "      <th></th>\n",
       "      <th>id</th>\n",
       "      <th>building_id</th>\n",
       "      <th>floor</th>\n",
       "      <th>kitchen_area</th>\n",
       "      <th>living_area</th>\n",
       "      <th>rooms</th>\n",
       "      <th>is_apartment</th>\n",
       "      <th>studio</th>\n",
       "      <th>total_area</th>\n",
       "      <th>price</th>\n",
       "      <th>build_year</th>\n",
       "      <th>building_type_int</th>\n",
       "      <th>latitude</th>\n",
       "      <th>longitude</th>\n",
       "      <th>ceiling_height</th>\n",
       "      <th>flats_count</th>\n",
       "      <th>floors_total</th>\n",
       "      <th>has_elevator</th>\n",
       "    </tr>\n",
       "  </thead>\n",
       "  <tbody>\n",
       "    <tr>\n",
       "      <th>0</th>\n",
       "      <td>18634</td>\n",
       "      <td>18237</td>\n",
       "      <td>8</td>\n",
       "      <td>12.8</td>\n",
       "      <td>0.0</td>\n",
       "      <td>4</td>\n",
       "      <td>false</td>\n",
       "      <td>false</td>\n",
       "      <td>155.600006</td>\n",
       "      <td>49900000.0</td>\n",
       "      <td>2001</td>\n",
       "      <td>4</td>\n",
       "      <td>55.697655</td>\n",
       "      <td>37.506927</td>\n",
       "      <td>2.7</td>\n",
       "      <td>185</td>\n",
       "      <td>18</td>\n",
       "      <td>true</td>\n",
       "    </tr>\n",
       "    <tr>\n",
       "      <th>1</th>\n",
       "      <td>18635</td>\n",
       "      <td>19594</td>\n",
       "      <td>8</td>\n",
       "      <td>13.0</td>\n",
       "      <td>50.0</td>\n",
       "      <td>2</td>\n",
       "      <td>false</td>\n",
       "      <td>false</td>\n",
       "      <td>78.000000</td>\n",
       "      <td>31000000.0</td>\n",
       "      <td>2005</td>\n",
       "      <td>2</td>\n",
       "      <td>55.702728</td>\n",
       "      <td>37.509705</td>\n",
       "      <td>3.0</td>\n",
       "      <td>552</td>\n",
       "      <td>17</td>\n",
       "      <td>false</td>\n",
       "    </tr>\n",
       "    <tr>\n",
       "      <th>2</th>\n",
       "      <td>18636</td>\n",
       "      <td>861</td>\n",
       "      <td>4</td>\n",
       "      <td>12.0</td>\n",
       "      <td>67.0</td>\n",
       "      <td>3</td>\n",
       "      <td>false</td>\n",
       "      <td>false</td>\n",
       "      <td>88.000000</td>\n",
       "      <td>28500000.0</td>\n",
       "      <td>1938</td>\n",
       "      <td>1</td>\n",
       "      <td>55.804955</td>\n",
       "      <td>37.512344</td>\n",
       "      <td>3.2</td>\n",
       "      <td>228</td>\n",
       "      <td>8</td>\n",
       "      <td>true</td>\n",
       "    </tr>\n",
       "    <tr>\n",
       "      <th>3</th>\n",
       "      <td>18637</td>\n",
       "      <td>24197</td>\n",
       "      <td>8</td>\n",
       "      <td>25.0</td>\n",
       "      <td>0.0</td>\n",
       "      <td>3</td>\n",
       "      <td>false</td>\n",
       "      <td>false</td>\n",
       "      <td>88.000000</td>\n",
       "      <td>40000000.0</td>\n",
       "      <td>2018</td>\n",
       "      <td>2</td>\n",
       "      <td>55.770805</td>\n",
       "      <td>37.564213</td>\n",
       "      <td>3.0</td>\n",
       "      <td>1630</td>\n",
       "      <td>48</td>\n",
       "      <td>true</td>\n",
       "    </tr>\n",
       "    <tr>\n",
       "      <th>4</th>\n",
       "      <td>18638</td>\n",
       "      <td>22417</td>\n",
       "      <td>11</td>\n",
       "      <td>35.0</td>\n",
       "      <td>180.0</td>\n",
       "      <td>6</td>\n",
       "      <td>false</td>\n",
       "      <td>false</td>\n",
       "      <td>260.000000</td>\n",
       "      <td>199000000.0</td>\n",
       "      <td>2013</td>\n",
       "      <td>2</td>\n",
       "      <td>55.786572</td>\n",
       "      <td>37.617626</td>\n",
       "      <td>3.3</td>\n",
       "      <td>134</td>\n",
       "      <td>12</td>\n",
       "      <td>true</td>\n",
       "    </tr>\n",
       "  </tbody>\n",
       "</table>\n",
       "</div>"
      ],
      "text/plain": [
       "      id  building_id  floor  kitchen_area  living_area  rooms is_apartment  \\\n",
       "0  18634        18237      8          12.8          0.0      4        false   \n",
       "1  18635        19594      8          13.0         50.0      2        false   \n",
       "2  18636          861      4          12.0         67.0      3        false   \n",
       "3  18637        24197      8          25.0          0.0      3        false   \n",
       "4  18638        22417     11          35.0        180.0      6        false   \n",
       "\n",
       "  studio  total_area        price  build_year  building_type_int   latitude  \\\n",
       "0  false  155.600006   49900000.0        2001                  4  55.697655   \n",
       "1  false   78.000000   31000000.0        2005                  2  55.702728   \n",
       "2  false   88.000000   28500000.0        1938                  1  55.804955   \n",
       "3  false   88.000000   40000000.0        2018                  2  55.770805   \n",
       "4  false  260.000000  199000000.0        2013                  2  55.786572   \n",
       "\n",
       "   longitude  ceiling_height  flats_count  floors_total has_elevator  \n",
       "0  37.506927             2.7          185            18         true  \n",
       "1  37.509705             3.0          552            17        false  \n",
       "2  37.512344             3.2          228             8         true  \n",
       "3  37.564213             3.0         1630            48         true  \n",
       "4  37.617626             3.3          134            12         true  "
      ]
     },
     "execution_count": 8,
     "metadata": {},
     "output_type": "execute_result"
    }
   ],
   "source": [
    "data.head()"
   ]
  },
  {
   "cell_type": "code",
   "execution_count": 9,
   "metadata": {},
   "outputs": [
    {
     "data": {
      "text/plain": [
       "<bound method NDFrame.describe of            id  building_id  floor  kitchen_area  living_area  rooms  \\\n",
       "0       18634        18237      8          12.8     0.000000      4   \n",
       "1       18635        19594      8          13.0    50.000000      2   \n",
       "2       18636          861      4          12.0    67.000000      3   \n",
       "3       18637        24197      8          25.0     0.000000      3   \n",
       "4       18638        22417     11          35.0   180.000000      6   \n",
       "...       ...          ...    ...           ...          ...    ...   \n",
       "141357  87989         5622      3           6.4    18.000000      1   \n",
       "141358  87990        23182     11          10.1    18.900000      1   \n",
       "141359  87991        21507     22           8.0    43.099998      3   \n",
       "141360  87992        20287      9          10.7    49.700001      3   \n",
       "141361  87993        20197      2           9.1    15.000000      1   \n",
       "\n",
       "       is_apartment studio  total_area        price  build_year  \\\n",
       "0             false  false  155.600006   49900000.0        2001   \n",
       "1             false  false   78.000000   31000000.0        2005   \n",
       "2             false  false   88.000000   28500000.0        1938   \n",
       "3             false  false   88.000000   40000000.0        2018   \n",
       "4             false  false  260.000000  199000000.0        2013   \n",
       "...             ...    ...         ...          ...         ...   \n",
       "141357        false  false   31.000000    9900000.0        1964   \n",
       "141358        false  false   40.000000    9400000.0        2015   \n",
       "141359        false  false   70.300003   28000000.0        2010   \n",
       "141360        false  false   83.199997   22500000.0        2006   \n",
       "141361        false  false   35.599998    9400000.0        2006   \n",
       "\n",
       "        building_type_int   latitude  longitude  ceiling_height  flats_count  \\\n",
       "0                       4  55.697655  37.506927            2.70          185   \n",
       "1                       2  55.702728  37.509705            3.00          552   \n",
       "2                       1  55.804955  37.512344            3.20          228   \n",
       "3                       2  55.770805  37.564213            3.00         1630   \n",
       "4                       2  55.786572  37.617626            3.30          134   \n",
       "...                   ...        ...        ...             ...          ...   \n",
       "141357                  4  55.860081  37.678001            2.54           80   \n",
       "141358                  4  55.603592  37.363674            2.74          196   \n",
       "141359                  2  55.675102  37.499516            2.70          240   \n",
       "141360                  4  55.714703  37.747620            2.64          528   \n",
       "141361                  4  55.644531  37.337334            2.64          320   \n",
       "\n",
       "        floors_total has_elevator  \n",
       "0                 18         true  \n",
       "1                 17        false  \n",
       "2                  8         true  \n",
       "3                 48         true  \n",
       "4                 12         true  \n",
       "...              ...          ...  \n",
       "141357             5        false  \n",
       "141358            17         true  \n",
       "141359            25         true  \n",
       "141360            23         true  \n",
       "141361            17         true  \n",
       "\n",
       "[141362 rows x 18 columns]>"
      ]
     },
     "execution_count": 9,
     "metadata": {},
     "output_type": "execute_result"
    }
   ],
   "source": [
    "data.describe"
   ]
  },
  {
   "cell_type": "code",
   "execution_count": 10,
   "metadata": {},
   "outputs": [
    {
     "data": {
      "text/plain": [
       "id                     int64\n",
       "building_id            int64\n",
       "floor                  int64\n",
       "kitchen_area         float64\n",
       "living_area          float64\n",
       "rooms                  int64\n",
       "is_apartment          object\n",
       "studio                object\n",
       "total_area           float64\n",
       "price                float64\n",
       "build_year             int64\n",
       "building_type_int      int64\n",
       "latitude             float64\n",
       "longitude            float64\n",
       "ceiling_height       float64\n",
       "flats_count            int64\n",
       "floors_total           int64\n",
       "has_elevator          object\n",
       "dtype: object"
      ]
     },
     "execution_count": 10,
     "metadata": {},
     "output_type": "execute_result"
    }
   ],
   "source": [
    "data.dtypes"
   ]
  },
  {
   "cell_type": "code",
   "execution_count": 11,
   "metadata": {},
   "outputs": [],
   "source": [
    "cat_features = data.select_dtypes(include='object')"
   ]
  },
  {
   "cell_type": "code",
   "execution_count": 12,
   "metadata": {},
   "outputs": [
    {
     "data": {
      "text/plain": [
       "is_apartment  studio  has_elevator\n",
       "false         false   true            125552\n",
       "                      false            14438\n",
       "true          false   true              1304\n",
       "                      false               68\n",
       "Name: count, dtype: int64"
      ]
     },
     "execution_count": 12,
     "metadata": {},
     "output_type": "execute_result"
    }
   ],
   "source": [
    "cat_features.value_counts()"
   ]
  },
  {
   "cell_type": "code",
   "execution_count": 13,
   "metadata": {},
   "outputs": [],
   "source": [
    "num_cols = data.select_dtypes(include='float')"
   ]
  },
  {
   "cell_type": "code",
   "execution_count": 14,
   "metadata": {},
   "outputs": [
    {
     "data": {
      "text/plain": [
       "['kitchen_area',\n",
       " 'living_area',\n",
       " 'total_area',\n",
       " 'price',\n",
       " 'latitude',\n",
       " 'longitude',\n",
       " 'ceiling_height']"
      ]
     },
     "execution_count": 14,
     "metadata": {},
     "output_type": "execute_result"
    }
   ],
   "source": [
    "num_cols.columns.to_list()"
   ]
  },
  {
   "cell_type": "code",
   "execution_count": 16,
   "metadata": {},
   "outputs": [
    {
     "data": {
      "text/plain": [
       "list"
      ]
     },
     "execution_count": 16,
     "metadata": {},
     "output_type": "execute_result"
    }
   ],
   "source": [
    "type(data.select_dtypes(include='float').columns.to_list())"
   ]
  },
  {
   "cell_type": "code",
   "execution_count": null,
   "metadata": {},
   "outputs": [],
   "source": []
  }
 ],
 "metadata": {
  "kernelspec": {
   "display_name": ".venv_mle_project_s1",
   "language": "python",
   "name": "python3"
  },
  "language_info": {
   "codemirror_mode": {
    "name": "ipython",
    "version": 3
   },
   "file_extension": ".py",
   "mimetype": "text/x-python",
   "name": "python",
   "nbconvert_exporter": "python",
   "pygments_lexer": "ipython3",
   "version": "3.10.12"
  }
 },
 "nbformat": 4,
 "nbformat_minor": 2
}
