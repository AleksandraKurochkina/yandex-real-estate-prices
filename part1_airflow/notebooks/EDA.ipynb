{
 "cells": [
  {
   "cell_type": "code",
   "execution_count": 1,
   "metadata": {},
   "outputs": [],
   "source": [
    "%load_ext autoreload\n",
    "%autoreload 2"
   ]
  },
  {
   "cell_type": "code",
   "execution_count": 2,
   "metadata": {},
   "outputs": [],
   "source": [
    "import os\n",
    "import pandas as pd\n",
    "from dotenv import load_dotenv, find_dotenv\n",
    "from sqlalchemy import create_engine"
   ]
  },
  {
   "cell_type": "code",
   "execution_count": 3,
   "metadata": {},
   "outputs": [],
   "source": [
    "# Считываем все креды\n",
    "src_host = os.environ.get('DB_SOURCE_HOST')\n",
    "src_port = os.environ.get('DB_SOURCE_PORT')\n",
    "src_username = os.environ.get('DB_SOURCE_USER')\n",
    "src_password = os.environ.get('DB_SOURCE_PASSWORD')\n",
    "src_db = os.environ.get('DB_SOURCE_NAME') \n",
    "\n",
    "dst_host = os.environ.get('DB_DESTINATION_HOST')\n",
    "dst_port = os.environ.get('DB_DESTINATION_PORT')\n",
    "dst_username = os.environ.get('DB_DESTINATION_USER')\n",
    "dst_password = os.environ.get('DB_DESTINATION_PASSWORD')\n",
    "dst_db = os.environ.get('DB_DESTINATION_NAME')\n",
    "\n",
    "s3_bucket = os.environ.get('S3_BUCKET_NAME')\n",
    "s3_access_key = os.environ.get('AWS_ACCESS_KEY_ID')\n",
    "s3_secret_access_key = os.environ.get('AWS_SECRET_ACCESS_KEY')"
   ]
  },
  {
   "cell_type": "code",
   "execution_count": 4,
   "metadata": {},
   "outputs": [],
   "source": [
    "# Создадим соединения\n",
    "src_conn = create_engine(f'postgresql://{src_username}:{src_password}@{src_host}:{src_port}/{src_db}')\n",
    "dst_conn = create_engine(f'postgresql://{dst_username}:{dst_password}@{dst_host}:{dst_port}/{dst_db}')"
   ]
  },
  {
   "cell_type": "code",
   "execution_count": 5,
   "metadata": {},
   "outputs": [],
   "source": [
    "TABLE = 'flats_table'\n",
    "SQL = f'select * from {TABLE}'\n",
    "data = pd.read_sql(SQL, dst_conn)"
   ]
  },
  {
   "cell_type": "code",
   "execution_count": 6,
   "metadata": {},
   "outputs": [
    {
     "data": {
      "text/html": [
       "<div>\n",
       "<style scoped>\n",
       "    .dataframe tbody tr th:only-of-type {\n",
       "        vertical-align: middle;\n",
       "    }\n",
       "\n",
       "    .dataframe tbody tr th {\n",
       "        vertical-align: top;\n",
       "    }\n",
       "\n",
       "    .dataframe thead th {\n",
       "        text-align: right;\n",
       "    }\n",
       "</style>\n",
       "<table border=\"1\" class=\"dataframe\">\n",
       "  <thead>\n",
       "    <tr style=\"text-align: right;\">\n",
       "      <th></th>\n",
       "      <th>id</th>\n",
       "      <th>building_id</th>\n",
       "      <th>floor</th>\n",
       "      <th>kitchen_area</th>\n",
       "      <th>living_area</th>\n",
       "      <th>rooms</th>\n",
       "      <th>is_apartment</th>\n",
       "      <th>studio</th>\n",
       "      <th>total_area</th>\n",
       "      <th>price</th>\n",
       "      <th>build_year</th>\n",
       "      <th>building_type_int</th>\n",
       "      <th>latitude</th>\n",
       "      <th>longitude</th>\n",
       "      <th>ceiling_height</th>\n",
       "      <th>flats_count</th>\n",
       "      <th>floors_total</th>\n",
       "      <th>has_elevator</th>\n",
       "    </tr>\n",
       "  </thead>\n",
       "  <tbody>\n",
       "    <tr>\n",
       "      <th>0</th>\n",
       "      <td>14971</td>\n",
       "      <td>13921</td>\n",
       "      <td>9</td>\n",
       "      <td>8.5</td>\n",
       "      <td>21.000000</td>\n",
       "      <td>1</td>\n",
       "      <td>false</td>\n",
       "      <td>false</td>\n",
       "      <td>41.000000</td>\n",
       "      <td>7600000.0</td>\n",
       "      <td>1983</td>\n",
       "      <td>4</td>\n",
       "      <td>55.797527</td>\n",
       "      <td>37.459946</td>\n",
       "      <td>2.64</td>\n",
       "      <td>95</td>\n",
       "      <td>9</td>\n",
       "      <td>true</td>\n",
       "    </tr>\n",
       "    <tr>\n",
       "      <th>1</th>\n",
       "      <td>14972</td>\n",
       "      <td>10161</td>\n",
       "      <td>8</td>\n",
       "      <td>8.8</td>\n",
       "      <td>32.599998</td>\n",
       "      <td>2</td>\n",
       "      <td>false</td>\n",
       "      <td>false</td>\n",
       "      <td>49.000000</td>\n",
       "      <td>8990000.0</td>\n",
       "      <td>1972</td>\n",
       "      <td>6</td>\n",
       "      <td>55.676533</td>\n",
       "      <td>37.676754</td>\n",
       "      <td>2.64</td>\n",
       "      <td>84</td>\n",
       "      <td>12</td>\n",
       "      <td>true</td>\n",
       "    </tr>\n",
       "    <tr>\n",
       "      <th>2</th>\n",
       "      <td>14973</td>\n",
       "      <td>7378</td>\n",
       "      <td>2</td>\n",
       "      <td>9.5</td>\n",
       "      <td>21.100000</td>\n",
       "      <td>1</td>\n",
       "      <td>false</td>\n",
       "      <td>false</td>\n",
       "      <td>35.099998</td>\n",
       "      <td>6500000.0</td>\n",
       "      <td>1967</td>\n",
       "      <td>6</td>\n",
       "      <td>55.759617</td>\n",
       "      <td>37.801781</td>\n",
       "      <td>2.64</td>\n",
       "      <td>84</td>\n",
       "      <td>12</td>\n",
       "      <td>true</td>\n",
       "    </tr>\n",
       "    <tr>\n",
       "      <th>3</th>\n",
       "      <td>14974</td>\n",
       "      <td>10856</td>\n",
       "      <td>10</td>\n",
       "      <td>10.0</td>\n",
       "      <td>20.000000</td>\n",
       "      <td>1</td>\n",
       "      <td>false</td>\n",
       "      <td>false</td>\n",
       "      <td>38.000000</td>\n",
       "      <td>8900000.0</td>\n",
       "      <td>1974</td>\n",
       "      <td>4</td>\n",
       "      <td>55.737293</td>\n",
       "      <td>37.416267</td>\n",
       "      <td>2.48</td>\n",
       "      <td>111</td>\n",
       "      <td>14</td>\n",
       "      <td>true</td>\n",
       "    </tr>\n",
       "    <tr>\n",
       "      <th>4</th>\n",
       "      <td>14975</td>\n",
       "      <td>12942</td>\n",
       "      <td>12</td>\n",
       "      <td>7.2</td>\n",
       "      <td>18.900000</td>\n",
       "      <td>1</td>\n",
       "      <td>false</td>\n",
       "      <td>false</td>\n",
       "      <td>41.000000</td>\n",
       "      <td>7750000.0</td>\n",
       "      <td>1980</td>\n",
       "      <td>4</td>\n",
       "      <td>55.603920</td>\n",
       "      <td>37.726772</td>\n",
       "      <td>2.48</td>\n",
       "      <td>251</td>\n",
       "      <td>16</td>\n",
       "      <td>true</td>\n",
       "    </tr>\n",
       "  </tbody>\n",
       "</table>\n",
       "</div>"
      ],
      "text/plain": [
       "      id  building_id  floor  kitchen_area  living_area  rooms is_apartment  \\\n",
       "0  14971        13921      9           8.5    21.000000      1        false   \n",
       "1  14972        10161      8           8.8    32.599998      2        false   \n",
       "2  14973         7378      2           9.5    21.100000      1        false   \n",
       "3  14974        10856     10          10.0    20.000000      1        false   \n",
       "4  14975        12942     12           7.2    18.900000      1        false   \n",
       "\n",
       "  studio  total_area      price  build_year  building_type_int   latitude  \\\n",
       "0  false   41.000000  7600000.0        1983                  4  55.797527   \n",
       "1  false   49.000000  8990000.0        1972                  6  55.676533   \n",
       "2  false   35.099998  6500000.0        1967                  6  55.759617   \n",
       "3  false   38.000000  8900000.0        1974                  4  55.737293   \n",
       "4  false   41.000000  7750000.0        1980                  4  55.603920   \n",
       "\n",
       "   longitude  ceiling_height  flats_count  floors_total has_elevator  \n",
       "0  37.459946            2.64           95             9         true  \n",
       "1  37.676754            2.64           84            12         true  \n",
       "2  37.801781            2.64           84            12         true  \n",
       "3  37.416267            2.48          111            14         true  \n",
       "4  37.726772            2.48          251            16         true  "
      ]
     },
     "execution_count": 6,
     "metadata": {},
     "output_type": "execute_result"
    }
   ],
   "source": [
    "data.head()"
   ]
  },
  {
   "cell_type": "code",
   "execution_count": 7,
   "metadata": {},
   "outputs": [
    {
     "data": {
      "text/plain": [
       "<bound method NDFrame.describe of            id  building_id  floor  kitchen_area  living_area  rooms  \\\n",
       "0       14971        13921      9           8.5    21.000000      1   \n",
       "1       14972        10161      8           8.8    32.599998      2   \n",
       "2       14973         7378      2           9.5    21.100000      1   \n",
       "3       14974        10856     10          10.0    20.000000      1   \n",
       "4       14975        12942     12           7.2    18.900000      1   \n",
       "...       ...          ...    ...           ...          ...    ...   \n",
       "141357  87995        23071     13          10.0    24.000000      2   \n",
       "141358  87996         3208      1           8.0    19.299999      1   \n",
       "141359  87997        20199      2          10.2    61.700001      4   \n",
       "141360  87998        19861      2          12.9    44.799999      3   \n",
       "141361  87999        11349      1           6.0    27.799999      2   \n",
       "\n",
       "       is_apartment studio  total_area       price  build_year  \\\n",
       "0             false  false   41.000000   7600000.0        1983   \n",
       "1             false  false   49.000000   8990000.0        1972   \n",
       "2             false  false   35.099998   6500000.0        1967   \n",
       "3             false  false   38.000000   8900000.0        1974   \n",
       "4             false  false   41.000000   7750000.0        1980   \n",
       "...             ...    ...         ...         ...         ...   \n",
       "141357        false  false   39.000000  16550000.0        2015   \n",
       "141358        false  false   34.900002  10200000.0        1960   \n",
       "141359        false  false  100.099998  21500000.0        2006   \n",
       "141360        false  false   76.300003  23400000.0        2005   \n",
       "141361        false  false   44.000000  10990000.0        1975   \n",
       "\n",
       "        building_type_int   latitude  longitude  ceiling_height  flats_count  \\\n",
       "0                       4  55.797527  37.459946            2.64           95   \n",
       "1                       6  55.676533  37.676754            2.64           84   \n",
       "2                       6  55.759617  37.801781            2.64           84   \n",
       "3                       4  55.737293  37.416267            2.48          111   \n",
       "4                       4  55.603920  37.726772            2.48          251   \n",
       "...                   ...        ...        ...             ...          ...   \n",
       "141357                  2  55.769192  37.472675            3.00          312   \n",
       "141358                  1  55.759212  37.784966            2.80           60   \n",
       "141359                  4  55.645813  37.339409            2.64          320   \n",
       "141360                  4  55.805946  37.812702            2.74          133   \n",
       "141361                  4  55.864365  37.616539            2.64          140   \n",
       "\n",
       "        floors_total has_elevator  \n",
       "0                  9         true  \n",
       "1                 12         true  \n",
       "2                 12         true  \n",
       "3                 14         true  \n",
       "4                 16         true  \n",
       "...              ...          ...  \n",
       "141357            25         true  \n",
       "141358             5        false  \n",
       "141359            17         true  \n",
       "141360            17         true  \n",
       "141361             9         true  \n",
       "\n",
       "[141362 rows x 18 columns]>"
      ]
     },
     "execution_count": 7,
     "metadata": {},
     "output_type": "execute_result"
    }
   ],
   "source": [
    "data.describe"
   ]
  },
  {
   "cell_type": "markdown",
   "metadata": {},
   "source": [
    "Duplicates"
   ]
  },
  {
   "cell_type": "code",
   "execution_count": 8,
   "metadata": {},
   "outputs": [],
   "source": [
    "features = data.drop(columns='id').columns.tolist()"
   ]
  },
  {
   "cell_type": "code",
   "execution_count": 9,
   "metadata": {},
   "outputs": [],
   "source": [
    "is_duplicated = data.duplicated(subset=features, keep=False)"
   ]
  },
  {
   "cell_type": "code",
   "execution_count": 10,
   "metadata": {},
   "outputs": [],
   "source": [
    "data = data[~is_duplicated].reset_index(drop=True)"
   ]
  },
  {
   "cell_type": "markdown",
   "metadata": {},
   "source": [
    "Missing values"
   ]
  },
  {
   "cell_type": "code",
   "execution_count": 23,
   "metadata": {},
   "outputs": [],
   "source": [
    "col_with_nans = data.isnull().sum()"
   ]
  },
  {
   "cell_type": "code",
   "execution_count": 24,
   "metadata": {},
   "outputs": [
    {
     "data": {
      "text/plain": [
       "id                       0\n",
       "building_id              0\n",
       "floor                    0\n",
       "kitchen_area         10271\n",
       "living_area          15719\n",
       "rooms                    0\n",
       "is_apartment             0\n",
       "studio                   0\n",
       "total_area               0\n",
       "price                    0\n",
       "build_year               0\n",
       "building_type_int        0\n",
       "latitude                 0\n",
       "longitude                0\n",
       "ceiling_height           0\n",
       "flats_count              0\n",
       "floors_total             0\n",
       "has_elevator             0\n",
       "dtype: int64"
      ]
     },
     "execution_count": 24,
     "metadata": {},
     "output_type": "execute_result"
    }
   ],
   "source": [
    "col_with_nans"
   ]
  },
  {
   "cell_type": "markdown",
   "metadata": {},
   "source": [
    "There is no nans but only for now \n",
    "(there will be new data)"
   ]
  },
  {
   "cell_type": "code",
   "execution_count": 28,
   "metadata": {},
   "outputs": [],
   "source": [
    "col_with_nans = col_with_nans[col_with_nans > 0].index"
   ]
  },
  {
   "cell_type": "code",
   "execution_count": 29,
   "metadata": {},
   "outputs": [
    {
     "data": {
      "text/plain": [
       "Index(['kitchen_area', 'living_area'], dtype='object')"
      ]
     },
     "execution_count": 29,
     "metadata": {},
     "output_type": "execute_result"
    }
   ],
   "source": [
    "col_with_nans"
   ]
  },
  {
   "cell_type": "code",
   "execution_count": 30,
   "metadata": {},
   "outputs": [],
   "source": [
    "for col in col_with_nans:\n",
    "    if data[col].dtype in ['float', 'int']:\n",
    "        fill_value = data[col].mean()\n",
    "    if data[col].dtype == 'object':\n",
    "        fill_value = data[col].mode().iloc[0]\n",
    "    data[col] = data[col].fillna(fill_value)"
   ]
  },
  {
   "cell_type": "markdown",
   "metadata": {},
   "source": [
    "0 values instead of null"
   ]
  },
  {
   "cell_type": "code",
   "execution_count": 19,
   "metadata": {},
   "outputs": [],
   "source": [
    "non_zero_features = ['kitchen_area', 'living_area', 'rooms', 'total_area', 'price', 'build_year', 'ceiling_height', \n",
    "                     'flats_count', 'floors_total']"
   ]
  },
  {
   "cell_type": "code",
   "execution_count": 31,
   "metadata": {},
   "outputs": [
    {
     "data": {
      "text/plain": [
       "kitchen_area      False\n",
       "living_area       False\n",
       "rooms             False\n",
       "total_area        False\n",
       "price             False\n",
       "build_year        False\n",
       "ceiling_height    False\n",
       "flats_count       False\n",
       "floors_total      False\n",
       "dtype: bool"
      ]
     },
     "execution_count": 31,
     "metadata": {},
     "output_type": "execute_result"
    }
   ],
   "source": [
    "data[non_zero_features].eq(0).any()"
   ]
  },
  {
   "cell_type": "code",
   "execution_count": 32,
   "metadata": {},
   "outputs": [
    {
     "data": {
      "text/plain": [
       "kitchen_area      0\n",
       "living_area       0\n",
       "rooms             0\n",
       "total_area        0\n",
       "price             0\n",
       "build_year        0\n",
       "ceiling_height    0\n",
       "flats_count       0\n",
       "floors_total      0\n",
       "dtype: int64"
      ]
     },
     "execution_count": 32,
     "metadata": {},
     "output_type": "execute_result"
    }
   ],
   "source": [
    "data[non_zero_features].eq(0).sum()"
   ]
  },
  {
   "cell_type": "markdown",
   "metadata": {},
   "source": [
    "A lot of 0 in kitchen and living area.\n",
    "Let's change them for nans (in dag it will be before work with nans)"
   ]
  },
  {
   "cell_type": "code",
   "execution_count": 22,
   "metadata": {},
   "outputs": [],
   "source": [
    "data[non_zero_features] = data[non_zero_features].replace(0, float('nan'))"
   ]
  },
  {
   "cell_type": "markdown",
   "metadata": {},
   "source": [
    "Outliers"
   ]
  },
  {
   "cell_type": "code",
   "execution_count": null,
   "metadata": {},
   "outputs": [],
   "source": [
    "num_cols = data.select_dtypes(['float']).columns"
   ]
  },
  {
   "cell_type": "code",
   "execution_count": 35,
   "metadata": {},
   "outputs": [],
   "source": [
    "threshold = 1.5\n",
    "potential_outliers = pd.DataFrame()\n",
    "\n",
    "for col in num_cols:\n",
    "    Q1 = data[col].describe().loc['25%']\n",
    "    Q3 = data[col].describe().loc['75%']\n",
    "    IQR = Q3 - Q1\n",
    "    margin = IQR * threshold\n",
    "    down = Q1 - margin\n",
    "    up = Q3 + margin\n",
    "    potential_outliers[col] = ~data[col].between(down, up)"
   ]
  },
  {
   "cell_type": "code",
   "execution_count": 38,
   "metadata": {},
   "outputs": [],
   "source": [
    "outliers = potential_outliers.any(axis=1)"
   ]
  },
  {
   "cell_type": "code",
   "execution_count": 44,
   "metadata": {},
   "outputs": [],
   "source": [
    "data = data[~outliers]"
   ]
  }
 ],
 "metadata": {
  "kernelspec": {
   "display_name": ".venv_mle_project_s1",
   "language": "python",
   "name": "python3"
  },
  "language_info": {
   "codemirror_mode": {
    "name": "ipython",
    "version": 3
   },
   "file_extension": ".py",
   "mimetype": "text/x-python",
   "name": "python",
   "nbconvert_exporter": "python",
   "pygments_lexer": "ipython3",
   "version": "3.10.12"
  }
 },
 "nbformat": 4,
 "nbformat_minor": 2
}
